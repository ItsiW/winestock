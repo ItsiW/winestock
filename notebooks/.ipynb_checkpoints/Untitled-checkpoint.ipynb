{
 "cells": [
  {
   "cell_type": "code",
   "execution_count": 92,
   "metadata": {},
   "outputs": [],
   "source": [
    "import requests\n",
    "from bs4 import BeautifulSoup\n",
    "from urllib.parse import urlparse, parse_qs, urlencode"
   ]
  },
  {
   "cell_type": "code",
   "execution_count": 93,
   "metadata": {},
   "outputs": [],
   "source": [
    "# Go to the url, ctrl+shft+i, network, right click on first 200 GET, copy request headers\n",
    "\n",
    "# GET /dashboard HTTP/1.1\n",
    "# Host: www.couchsurfing.com\n",
    "# User-Agent: Mozilla/5.0 (X11; Ubuntu; Linux x86_64; rv:78.0) Gecko/20100101 Firefox/78.0\n",
    "# Accept: text/html,application/xhtml+xml,application/xml;q=0.9,image/webp,*/*;q=0.8\n",
    "# Accept-Language: en-US,en;q=0.5\n",
    "# Accept-Encoding: gzip, deflate, br\n",
    "# DNT: 1\n",
    "# Connection: keep-alive\n",
    "# Cookie: _pxhd=d4b8517e6148cd6e89d0d09229627f27c96655e214bfa557fa70689ae0727378:adf839e1-9752-11ea-9017-5104237c9bcf; _safe_cookies__known_cookies=_hammertime_session%7CXSRF-TOKEN%7Cht_utm_campaign%7Cht_utm_source%7Cht_utm_medium%7Cht_utm_content%7Cht_utm_term; __stripe_mid=7db613d9-2871-4bd5-8d51-ee148ca13413; OptanonConsent=isIABGlobal=false&datestamp=Sun+Jul+26+2020+22%3A22%3A40+GMT%2B1000+(Australian+Eastern+Standard+Time)&version=5.9.0&landingPath=NotLandingPage&groups=1%3A1%2C3%3A0%2C4%3A0%2C0_260182%3A1%2C0_209487%3A0%2C0_258582%3A0%2C0_258584%3A0%2C0_209483%3A0%2C0_209485%3A0%2C0_258590%3A0%2C0_258592%3A0%2C0_258586%3A0%2C0_210212%3A0%2C0_258588%3A0%2C0_260132%3A0%2C0_260334%3A0%2C0_260336%3A0%2C0_260330%3A0%2C0_260332%3A0%2C0_209486%3A0%2C0_258583%3A0%2C0_214833%3A1%2C0_209484%3A0%2C0_257650%3A1%2C0_258581%3A1%2C0_260181%3A1%2C0_258591%3A0%2C0_233932%3A1%2C0_258587%3A0%2C0_258589%3A0%2C0_210213%3A1%2C0_260329%3A0%2C0_260131%3A0%2C0_260335%3A0%2C0_260337%3A0%2C0_260331%3A0%2C0_260333%3A0%2C101%3A0&AwaitingReconsent=false; optimizelyEndUserId=oeu1589619273501r0.3705685437375913; vp_size=large; cs_sonobi_user_id=2013217668; logged_out_cta_dismissed=true; XSRF-TOKEN=E2mkBGFrGilpt%2BlXsoKcbJw6FytKQwTBrGVGEfrNSPzInRNa4E8LttXjrErkjqpgG6kj06N2JGU3mMNGjbP1CA%3D%3D; _hammertime_session=R0dXMW9XZUN1dHRXRkltcHZMZXJ0SXppNHUvV1h1VktmYy9EV3ZsTmZZK3BPbGpSN1QyaTlMWk13blFPeXVxb2tTb2tqbEozV1Z6Nm9YVlZHanJaaWN5eFFiakF2N016QXQraVhMOUlkVjVTREtzVFpab3ErQWVxODN2ZGtQOVlkYmdDQmlBeDFyRURGMnQ5Lzh1SVRLYThpMFJaUnBVb0J3SjRtM0ZLMkQ5V1psNWtaVTV4Uk9RSURWK2wwV0pmbWhVejFYcStyUHUybk5jeFpaT1dSaTJuYXBsbEtUZXVNdkRyOXU5K3pkUVliTzNERjlaMmZ6ZnZzRU5SMFJGemJUcHdXNXBwVDFFZ09qTE9Pblg4dzZrd3VkRVNNNnZQRVFubmRmN1RlOGNRdEdENytzQXF0S0tocTlVOW54WXBkME1tMURuVlA2aTd3bHNmdWV4OWNId0xLRFJlem02NUptaFZSZ2dKY3FIcXJTYWZDaFZnMTFqZjREVWtzOUMzVHFZQXVIK0hnQVFvRkl1UkswSGZ1aG4xWElRa2hFTk54bHdZZStnNXNWWGVCU3V1NDFrLzFTdmpLVW96QmRQamJQWWNLSVEwSG5kaTl2NmpmajM3SUJYMnhGZC9yRDZrVkUzbDFySjdpcE5oczNiZGl6V3ZZcVkrY0dBeWJSZVotLTVXelFiM3cybWx2TWR5REhaaFZmRWc9PQ%3D%3D--025f137a5872f866b40c564258f9fb2cfc9a7a86; logged_out_cta_page_count=427; ht_utm_campaign=; ht_utm_source=; ht_utm_medium=; ht_utm_content=; ht_utm_term=\n",
    "# Upgrade-Insecure-Requests: 1\n",
    "# Cache-Control: max-age=0\n",
    "\n",
    "agent = \"Mozilla/5.0 (X11; Ubuntu; Linux x86_64; rv:78.0) Gecko/20100101 Firefox/78.0\"\n",
    "cookie = \"_pxhd=d4b8517e6148cd6e89d0d09229627f27c96655e214bfa557fa70689ae0727378:adf839e1-9752-11ea-9017-5104237c9bcf; _safe_cookies__known_cookies=_hammertime_session%7CXSRF-TOKEN%7Cht_utm_campaign%7Cht_utm_source%7Cht_utm_medium%7Cht_utm_content%7Cht_utm_term; __stripe_mid=7db613d9-2871-4bd5-8d51-ee148ca13413; OptanonConsent=isIABGlobal=false&datestamp=Sat+Jul+25+2020+16%3A27%3A56+GMT%2B1000+(Australian+Eastern+Standard+Time)&version=5.9.0&landingPath=NotLandingPage&groups=1%3A1%2C3%3A0%2C4%3A0%2C0_260182%3A1%2C0_209487%3A0%2C0_258582%3A0%2C0_258584%3A0%2C0_209483%3A0%2C0_209485%3A0%2C0_258590%3A0%2C0_258592%3A0%2C0_258586%3A0%2C0_210212%3A0%2C0_258588%3A0%2C0_260132%3A0%2C0_260334%3A0%2C0_260336%3A0%2C0_260330%3A0%2C0_260332%3A0%2C0_209486%3A0%2C0_258583%3A0%2C0_214833%3A1%2C0_209484%3A0%2C0_257650%3A1%2C0_258581%3A1%2C0_260181%3A1%2C0_258591%3A0%2C0_233932%3A1%2C0_258587%3A0%2C0_258589%3A0%2C0_210213%3A1%2C0_260329%3A0%2C0_260131%3A0%2C0_260335%3A0%2C0_260337%3A0%2C0_260331%3A0%2C0_260333%3A0%2C101%3A0&AwaitingReconsent=false; optimizelyEndUserId=oeu1589619273501r0.3705685437375913; vp_size=large; cs_sonobi_user_id=2013217668; logged_out_cta_dismissed=true; XSRF-TOKEN=DPdQzmTZKKiMNaK%2BIxH9jWtuxs%2B1a1vA1Q5g3UGj077XA%2BeQ5f05NzBh56N1HcuB7P3yN1xee2RO8%2BWKNt1uSg%3D%3D; _hammertime_session=c1BVclg0LzQ1SHhsbEtMQXhiVE5ESzZYYVZ6OSthbEU3ellrM0t6NEF2V2krcjN0STVXSHBHTDlVUkZoc0t2c2loM256Z1o2QW4zSUVkSW5QKzRIUXBiZ1NmTGVlSjdONTl6R0xmQ3RmMmZRSU9WMzFmRXhtYWNwNjh3NS9jY0FYUk9wT0JqMmFaOTVMY3FhNnJ2VUwwR2tCL0FZZHoyck95MFRpdDdzeThHN2ZmY1MxWUk2a0JPb1paSFRyOVFsZXVOOHNwMDJ4SzRVZ0w3czRyQTdzd0U2Qkg2SUkzbkVsbVJUZjVyUHQxL2UyWDcwdVlSQTVFYzZXb3Vjbm12VmMrMGt4c1krb0hLUHBDK2hMem4yQmx2SW9mS1JwMlk2Slk2dElzSE1jZ1BRVTJvYml4UVpJcHo0N3IrL0hZVUxQUmx0U2puSnk4NkdwWHVYdkpwak5SUUhabVhQYkx0ZlljYjFtZ1M2L1l0WjAwcmpqS3p6ZXVlTXNXM2tEV1Q0RmFCbDV2QWdDNTRVSEt1VGQzRXhWNmVXaVQ1SElFZGdlSEZRVW9GcWtSMkRMRU5HaE9NZkNHN0wrQkdJOU54eW1BSlBkcUZ4SEpvL3JSY3dESGRvNGFZWEN3bzh6ZmpDWjR4cmZZblZ6aC9kVnpFNC91TXBJZnN3R2FxRUxVajU2WDI4Z0k4NHpQUkJLMWJpMWQ5R09CM05iSVZHMXRkM2xTci9IaVNxeVBPNUVibmFjZXpCdzM2eGE4aFcvSExENlM5d0xZRVNGVnNHRDBBR2FDT1hrQktzNm0xa1FWZG01aEkyakJ3N0I4VWNVWERvdU5vNUo1VmxZcUpEOVVQRS0tODROeWhxZ252VC96VDhhMGY1VmwzUT09--b9d9833e3c380cacc1a07ba5f0af17077777d9ad; logged_out_cta_page_count=421; ht_utm_campaign=; ht_utm_source=; ht_utm_medium=; ht_utm_content=; ht_utm_term=\"\n",
    "headers = {\"user-agent\":agent,\"cookie\":cookie}"
   ]
  },
  {
   "cell_type": "code",
   "execution_count": 94,
   "metadata": {},
   "outputs": [
    {
     "data": {
      "text/plain": [
       "200"
      ]
     },
     "execution_count": 94,
     "metadata": {},
     "output_type": "execute_result"
    }
   ],
   "source": [
    "# Check headers are working if 200 status code\n",
    "url = \"https://www.couchsurfing.com/dashboard\"\n",
    "r = requests.get(url,headers=headers)\n",
    "r.status_code"
   ]
  },
  {
   "cell_type": "code",
   "execution_count": 95,
   "metadata": {},
   "outputs": [
    {
     "data": {
      "text/plain": [
       "200"
      ]
     },
     "execution_count": 95,
     "metadata": {},
     "output_type": "execute_result"
    }
   ],
   "source": [
    "# Clear responses and type in 'Paris, France' in search bar, look for GET in headers\n",
    "# https://www.couchsurfing.com/mapbox/autocomplete?search_text=Paris, France&language=en&type=place\n",
    "\n",
    "place = \"Paris, France\"\n",
    "search_url = f\"https://www.couchsurfing.com/mapbox/autocomplete?search_text={place}&language=en&type=place\"\n",
    "r_search = requests.get(search_url, headers=headers)\n",
    "r_search.status_code"
   ]
  },
  {
   "cell_type": "code",
   "execution_count": 101,
   "metadata": {},
   "outputs": [
    {
     "data": {
      "text/plain": [
       "{'utf8': ['✓'],\n",
       " 'search_type': ['place'],\n",
       " 'latitude': ['48.85658'],\n",
       " 'longitude': ['2.35183'],\n",
       " 'mapbox': ['{\"id\":\"place.9375144769497330\",\"text\":\"Paris\",\"center\":\"Paris\",\"place_name\":\"Paris, France\",\"geometry\":{\"coordinates\":[2.35183,48.85658]},\"bbox\":[2.22421872513496,48.8157530054524,2.46975399558065,48.9019739998335],\"properties\":{},\"place_type\":[\"region\",\"place\"],\"context\":[{\"id\":\"country.15996870960641660\",\"text\":\"France\"}]}'],\n",
       " 'search_query': ['Paris, France']}"
      ]
     },
     "execution_count": 101,
     "metadata": {},
     "output_type": "execute_result"
    }
   ],
   "source": [
    "# Go to Paris, France page, get URL\n",
    "place_url = \"https://www.couchsurfing.com/place?utf8=%E2%9C%93&search_type=place&latitude=48.85658&longitude=2.35183&mapbox=%7B%22id%22%3A%22place.9375144769497330%22%2C%22text%22%3A%22Paris%22%2C%22center%22%3A%22Paris%22%2C%22place_name%22%3A%22Paris%2C+France%22%2C%22geometry%22%3A%7B%22coordinates%22%3A%5B2.35183%2C48.85658%5D%7D%2C%22bbox%22%3A%5B2.22421872513496%2C48.8157530054524%2C2.46975399558065%2C48.9019739998335%5D%2C%22properties%22%3A%7B%7D%2C%22place_type%22%3A%5B%22region%22%2C%22place%22%5D%2C%22context%22%3A%5B%7B%22id%22%3A%22country.15996870960641660%22%2C%22text%22%3A%22France%22%7D%5D%7D&search_query=Paris%2C+France\"\n",
    "parse = urlparse(place_url)\n",
    "parse_qs(parse.query)"
   ]
  },
  {
   "cell_type": "code",
   "execution_count": 102,
   "metadata": {},
   "outputs": [],
   "source": [
    "mapbox = r_search.json()[\"features\"][0]\n",
    "features = {'utf8': ['✓'],\n",
    " 'search_type': ['place'],\n",
    " 'latitude': [mapbox[\"geometry\"][\"coordinates\"][1]],\n",
    " 'longitude': [mapbox[\"geometry\"][\"coordinates\"][0]],\n",
    " 'mapbox': [str(mapbox)],\n",
    " 'search_query': [mapbox[\"place_name\"]]}"
   ]
  },
  {
   "cell_type": "code",
   "execution_count": 103,
   "metadata": {},
   "outputs": [
    {
     "data": {
      "text/plain": [
       "{'utf8': ['✓'],\n",
       " 'search_type': ['place'],\n",
       " 'latitude': [48.85658],\n",
       " 'longitude': [2.35183],\n",
       " 'mapbox': [\"{'id': 'place.9375144769497330', 'text': 'Paris', 'center': 'Paris', 'place_name': 'Paris, France', 'geometry': {'coordinates': [2.35183, 48.85658]}, 'bbox': [2.22421872513496, 48.8157530054524, 2.46975399558065, 48.9019739998335], 'properties': {}, 'place_type': ['region', 'place'], 'context': [{'id': 'country.15996870960641660', 'text': 'France'}]}\"],\n",
       " 'search_query': ['Paris, France']}"
      ]
     },
     "execution_count": 103,
     "metadata": {},
     "output_type": "execute_result"
    }
   ],
   "source": [
    "features"
   ]
  },
  {
   "cell_type": "code",
   "execution_count": 33,
   "metadata": {
    "scrolled": false
   },
   "outputs": [],
   "source": [
    "html = r.text\n",
    "soup = BeautifulSoup(html, \"html.parser\")"
   ]
  },
  {
   "cell_type": "code",
   "execution_count": null,
   "metadata": {},
   "outputs": [],
   "source": []
  }
 ],
 "metadata": {
  "kernelspec": {
   "display_name": "Python 3",
   "language": "python",
   "name": "python3"
  },
  "language_info": {
   "codemirror_mode": {
    "name": "ipython",
    "version": 3
   },
   "file_extension": ".py",
   "mimetype": "text/x-python",
   "name": "python",
   "nbconvert_exporter": "python",
   "pygments_lexer": "ipython3",
   "version": "3.7.4"
  }
 },
 "nbformat": 4,
 "nbformat_minor": 2
}
